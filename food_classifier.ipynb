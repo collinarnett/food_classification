{
 "cells": [
  {
   "cell_type": "markdown",
   "metadata": {},
   "source": [
    "## Setup"
   ]
  },
  {
   "cell_type": "code",
   "execution_count": 42,
   "metadata": {
    "scrolled": true
   },
   "outputs": [
    {
     "name": "stdout",
     "output_type": "stream",
     "text": [
      "/Users/carnett/apps/python-virtual-environments/food_classification/bin/python3\n",
      "/Users/carnett/apps/python-virtual-environments/food_classification/bin/pip3\n"
     ]
    }
   ],
   "source": [
    "# Verify we are using our virtual enviorment\n",
    "!which python3\n",
    "!which pip3"
   ]
  },
  {
   "cell_type": "code",
   "execution_count": 43,
   "metadata": {
    "scrolled": true
   },
   "outputs": [
    {
     "name": "stdout",
     "output_type": "stream",
     "text": [
      "Requirement already satisfied: numpy in /Users/carnett/apps/python-virtual-environments/food_classification/lib/python3.7/site-packages (1.17.0)\n",
      "Requirement already satisfied: pandas in /Users/carnett/apps/python-virtual-environments/food_classification/lib/python3.7/site-packages (0.25.0)\n",
      "Collecting tensorflow-gpu==2.0.0-beta1\n",
      "\u001b[31m  ERROR: Could not find a version that satisfies the requirement tensorflow-gpu==2.0.0-beta1 (from versions: none)\u001b[0m\n",
      "\u001b[31mERROR: No matching distribution found for tensorflow-gpu==2.0.0-beta1\u001b[0m\n",
      "\u001b[33mWARNING: You are using pip version 19.2.1, however version 19.2.2 is available.\n",
      "You should consider upgrading via the 'pip install --upgrade pip' command.\u001b[0m\n"
     ]
    }
   ],
   "source": [
    "# Install our dependencies\n",
    "!pip3 install numpy pandas tensorflow-gpu==2.0.0-beta1 kaggle"
   ]
  },
  {
   "cell_type": "code",
   "execution_count": 44,
   "metadata": {},
   "outputs": [],
   "source": [
    "# Download our data\n",
    "# !kaggle datasets download -d kmader/food41 --force\n",
    "\n",
    "# !unzip food41/images.zip -d food41/images"
   ]
  },
  {
   "cell_type": "code",
   "execution_count": 2,
   "metadata": {
    "scrolled": true
   },
   "outputs": [],
   "source": [
    "import pandas as pd\n",
    "import tensorflow as tf\n",
    "import os\n",
    "import IPython.display as display\n",
    "import random\n",
    "import pathlib\n",
    "import numpy as np\n",
    "from PIL import Image\n",
    "import matplotlib.pyplot as plt\n",
    "import matplotlib.image as mpimg\n",
    "import cv2"
   ]
  },
  {
   "cell_type": "code",
   "execution_count": 46,
   "metadata": {},
   "outputs": [],
   "source": [
    "# Comment this section out if you are not using a GPU\n",
    "from tensorflow.compat.v1 import ConfigProto\n",
    "from tensorflow.compat.v1 import InteractiveSession\n",
    "\n",
    "config = ConfigProto()\n",
    "config.gpu_options.allow_growth = True\n",
    "session = InteractiveSession(config=config)"
   ]
  },
  {
   "cell_type": "markdown",
   "metadata": {},
   "source": [
    "## Data Loading"
   ]
  },
  {
   "cell_type": "code",
   "execution_count": 49,
   "metadata": {},
   "outputs": [],
   "source": [
    "data_root = pathlib.Path('/Users/carnett/apps/food_classification/food41/images')\n",
    "AUTOTUNE = tf.data.experimental.AUTOTUNE\n",
    "def caption_image(image_path):\n",
    "    image_rel = pathlib.Path(image_path).relative_to(data_root)\n",
    "    return \"Image (CC BY 2.0) \" + ' - '.join(attributions[str(image_rel)].split(' - ')[:-1])"
   ]
  },
  {
   "cell_type": "code",
   "execution_count": 50,
   "metadata": {},
   "outputs": [
    {
     "name": "stdout",
     "output_type": "stream",
     "text": [
      "101000\n"
     ]
    }
   ],
   "source": [
    "import random\n",
    "all_image_paths = list(data_root.glob('*/*'))\n",
    "all_image_paths = [str(path) for path in all_image_paths]\n",
    "random.shuffle(all_image_paths)\n",
    "\n",
    "image_count = len(all_image_paths)\n",
    "print(image_count)\n",
    "DATASET_SIZE = image_count"
   ]
  },
  {
   "cell_type": "code",
   "execution_count": 51,
   "metadata": {
    "scrolled": true
   },
   "outputs": [
    {
     "name": "stdout",
     "output_type": "stream",
     "text": [
      "First 10 labels indices:  [68, 31, 47, 60, 31, 95, 96, 87, 80, 79]\n"
     ]
    }
   ],
   "source": [
    "label_names = sorted(item.name for item in data_root.glob('*/') if item.is_dir())\n",
    "label_to_index = dict((name, index) for index, name in enumerate(label_names))\n",
    "\n",
    "all_image_labels = [label_to_index[pathlib.Path(path).parent.name]\n",
    "                    for path in all_image_paths]\n",
    "\n",
    "print(\"First 10 labels indices: \", all_image_labels[:10])"
   ]
  },
  {
   "cell_type": "code",
   "execution_count": 52,
   "metadata": {},
   "outputs": [],
   "source": [
    "path_ds = tf.data.Dataset.from_tensor_slices(all_image_paths)"
   ]
  },
  {
   "cell_type": "code",
   "execution_count": 53,
   "metadata": {},
   "outputs": [],
   "source": [
    "def preprocess_image(image):\n",
    "  image = tf.image.decode_jpeg(image, channels=3)\n",
    "  image = tf.image.resize(image, [64, 64])\n",
    "  image /= 255.0  # normalize to [0,1] range\n",
    "\n",
    "  return image\n",
    "\n",
    "def load_and_preprocess_image(path):\n",
    "  image = tf.io.read_file(path)\n",
    "  return preprocess_image(image)"
   ]
  },
  {
   "cell_type": "code",
   "execution_count": 54,
   "metadata": {},
   "outputs": [],
   "source": [
    "image_ds = path_ds.map(load_and_preprocess_image, num_parallel_calls=AUTOTUNE)\n",
    "label_ds = tf.data.Dataset.from_tensor_slices(tf.cast(all_image_labels, tf.int64))"
   ]
  },
  {
   "cell_type": "code",
   "execution_count": 55,
   "metadata": {},
   "outputs": [
    {
     "name": "stdout",
     "output_type": "stream",
     "text": [
      "onion_rings\n",
      "donuts\n",
      "gnocchi\n",
      "lobster_bisque\n",
      "donuts\n",
      "sushi\n",
      "tacos\n",
      "scallops\n",
      "pulled_pork_sandwich\n",
      "prime_rib\n"
     ]
    }
   ],
   "source": [
    "for label in label_ds.take(10):\n",
    "  print(label_names[label.numpy()])"
   ]
  },
  {
   "cell_type": "code",
   "execution_count": 56,
   "metadata": {},
   "outputs": [],
   "source": [
    "image_label_ds = tf.data.Dataset.zip((image_ds, label_ds))"
   ]
  },
  {
   "cell_type": "code",
   "execution_count": 57,
   "metadata": {},
   "outputs": [
    {
     "name": "stdout",
     "output_type": "stream",
     "text": [
      "<TensorSliceDataset shapes: ((), ()), types: (tf.string, tf.int32)>\n"
     ]
    },
    {
     "data": {
      "text/plain": [
       "<MapDataset shapes: ((64, 64, 3), ()), types: (tf.float32, tf.int32)>"
      ]
     },
     "execution_count": 57,
     "metadata": {},
     "output_type": "execute_result"
    }
   ],
   "source": [
    "ds = tf.data.Dataset.from_tensor_slices((all_image_paths, all_image_labels))\n",
    "print(ds)\n",
    "# The tuples are unpacked into the positional arguments of the mapped function\n",
    "def load_and_preprocess_from_path_label(path, label):\n",
    "  return load_and_preprocess_image(path), label\n",
    "\n",
    "image_label_ds = ds.map(load_and_preprocess_from_path_label)\n",
    "image_label_ds"
   ]
  },
  {
   "cell_type": "code",
   "execution_count": 58,
   "metadata": {},
   "outputs": [
    {
     "name": "stdout",
     "output_type": "stream",
     "text": [
      "<TakeDataset shapes: ((64, 64, 3), ()), types: (tf.float32, tf.int32)>\n"
     ]
    }
   ],
   "source": [
    "train_size = int(0.8 * DATASET_SIZE)\n",
    "test_size = int(0.10 * DATASET_SIZE)\n",
    "\n",
    "train_dataset = image_label_ds.take(train_size)\n",
    "test_dataset = image_label_ds.take(test_size)\n",
    "\n",
    "\n",
    "print(train_dataset)"
   ]
  },
  {
   "cell_type": "code",
   "execution_count": 59,
   "metadata": {},
   "outputs": [
    {
     "data": {
      "text/plain": [
       "<BatchDataset shapes: ((None, 64, 64, 3), (None,)), types: (tf.float32, tf.int32)>"
      ]
     },
     "execution_count": 59,
     "metadata": {},
     "output_type": "execute_result"
    }
   ],
   "source": [
    "ts = test_dataset.batch(32)\n",
    "ts"
   ]
  },
  {
   "cell_type": "code",
   "execution_count": 48,
   "metadata": {},
   "outputs": [
    {
     "data": {
      "text/plain": [
       "<PrefetchDataset shapes: ((None, 64, 64, 3), (None,)), types: (tf.float32, tf.int32)>"
      ]
     },
     "execution_count": 48,
     "metadata": {},
     "output_type": "execute_result"
    }
   ],
   "source": [
    "BATCH_SIZE = 64\n",
    "\n",
    "# Setting a shuffle buffer size as large as the dataset ensures that the data is\n",
    "# completely shuffled.\n",
    "ds = train_dataset.shuffle(buffer_size=image_count)\n",
    "ds = ds.repeat()\n",
    "ds = ds.batch(BATCH_SIZE)\n",
    "# `prefetch` lets the dataset fetch batches, in the background while the model is training.\n",
    "ds = ds.prefetch(buffer_size=AUTOTUNE)\n",
    "ds"
   ]
  },
  {
   "cell_type": "markdown",
   "metadata": {},
   "source": [
    "## Training"
   ]
  },
  {
   "cell_type": "code",
   "execution_count": 49,
   "metadata": {},
   "outputs": [
    {
     "name": "stderr",
     "output_type": "stream",
     "text": [
      "WARNING: Logging before flag parsing goes to stderr.\n",
      "W0811 02:31:15.205162 140399753807680 util.py:244] Unresolved object in checkpoint: (root).optimizer.iter\n",
      "W0811 02:31:15.207215 140399753807680 util.py:244] Unresolved object in checkpoint: (root).optimizer.beta_1\n",
      "W0811 02:31:15.208733 140399753807680 util.py:244] Unresolved object in checkpoint: (root).optimizer.beta_2\n",
      "W0811 02:31:15.210212 140399753807680 util.py:244] Unresolved object in checkpoint: (root).optimizer.decay\n",
      "W0811 02:31:15.211802 140399753807680 util.py:244] Unresolved object in checkpoint: (root).optimizer.learning_rate\n",
      "W0811 02:31:15.212513 140399753807680 util.py:252] A checkpoint was restored (e.g. tf.train.Checkpoint.restore or tf.keras.Model.load_weights) but not all checkpointed values were used. See above for specific issues. Use expect_partial() on the load status object, e.g. tf.train.Checkpoint.restore(...).expect_partial(), to silence these warnings, or use assert_consumed() to make the check explicit. See https://www.tensorflow.org/alpha/guide/checkpoints#loading_mechanics for details.\n"
     ]
    }
   ],
   "source": [
    "model = tf.keras.applications.resnet50.ResNet50(weights=None, input_shape=(64, 64, 3), classes=101)"
   ]
  },
  {
   "cell_type": "code",
   "execution_count": 50,
   "metadata": {},
   "outputs": [],
   "source": [
    "model.compile(optimizer=tf.optimizers.Adam(),\n",
    "              loss=tf.keras.losses.sparse_categorical_crossentropy,\n",
    "              metrics=[\"accuracy\"])"
   ]
  },
  {
   "cell_type": "code",
   "execution_count": 51,
   "metadata": {},
   "outputs": [
    {
     "data": {
      "text/plain": [
       "214"
      ]
     },
     "execution_count": 51,
     "metadata": {},
     "output_type": "execute_result"
    }
   ],
   "source": [
    "len(model.trainable_variables)"
   ]
  },
  {
   "cell_type": "code",
   "execution_count": 52,
   "metadata": {},
   "outputs": [
    {
     "data": {
      "text/plain": [
       "1579.0"
      ]
     },
     "execution_count": 52,
     "metadata": {},
     "output_type": "execute_result"
    }
   ],
   "source": [
    "steps_per_epoch=tf.math.ceil(len(all_image_paths)/BATCH_SIZE).numpy()\n",
    "steps_per_epoch"
   ]
  },
  {
   "cell_type": "code",
   "execution_count": 53,
   "metadata": {},
   "outputs": [
    {
     "name": "stdout",
     "output_type": "stream",
     "text": [
      "Epoch 1/21\n"
     ]
    },
    {
     "name": "stderr",
     "output_type": "stream",
     "text": [
      "W0811 02:33:30.383482 140399753807680 deprecation.py:323] From /home/collin/.virtualenvs/food_classification/lib/python3.6/site-packages/tensorflow/python/ops/math_grad.py:1250: add_dispatch_support.<locals>.wrapper (from tensorflow.python.ops.array_ops) is deprecated and will be removed in a future version.\n",
      "Instructions for updating:\n",
      "Use tf.where in 2.0, which has the same broadcast rule as np.where\n"
     ]
    },
    {
     "name": "stdout",
     "output_type": "stream",
     "text": [
      "1579/1579 [==============================] - 502s 318ms/step - loss: 4.6141 - accuracy: 0.0441\n",
      "Epoch 2/21\n",
      "1579/1579 [==============================] - 347s 220ms/step - loss: 4.4512 - accuracy: 0.0611\n",
      "Epoch 3/21\n",
      "1579/1579 [==============================] - 349s 221ms/step - loss: 4.2824 - accuracy: 0.0849\n",
      "Epoch 4/21\n",
      "1579/1579 [==============================] - 355s 225ms/step - loss: 4.2649 - accuracy: 0.0919\n",
      "Epoch 5/21\n",
      "1579/1579 [==============================] - 349s 221ms/step - loss: 3.9941 - accuracy: 0.1172\n",
      "Epoch 6/21\n",
      "1579/1579 [==============================] - 351s 222ms/step - loss: 3.6088 - accuracy: 0.1608\n",
      "Epoch 7/21\n",
      "1579/1579 [==============================] - 337s 214ms/step - loss: 3.4837 - accuracy: 0.1815\n",
      "Epoch 8/21\n",
      "1579/1579 [==============================] - 359s 227ms/step - loss: 3.2866 - accuracy: 0.2149\n",
      "Epoch 9/21\n",
      "1579/1579 [==============================] - 356s 225ms/step - loss: 3.0728 - accuracy: 0.2554\n",
      "Epoch 10/21\n",
      "1579/1579 [==============================] - 330s 209ms/step - loss: 2.8302 - accuracy: 0.3013\n",
      "Epoch 11/21\n",
      "1579/1579 [==============================] - 356s 225ms/step - loss: 2.4994 - accuracy: 0.3678\n",
      "Epoch 12/21\n",
      "1579/1579 [==============================] - 353s 223ms/step - loss: 2.1515 - accuracy: 0.4431\n",
      "Epoch 13/21\n",
      "1579/1579 [==============================] - 351s 222ms/step - loss: 1.5218 - accuracy: 0.5965\n",
      "Epoch 14/21\n",
      "1579/1579 [==============================] - 353s 224ms/step - loss: 0.9760 - accuracy: 0.7383\n",
      "Epoch 15/21\n",
      "1579/1579 [==============================] - 352s 223ms/step - loss: 0.5789 - accuracy: 0.8455\n",
      "Epoch 16/21\n",
      "1579/1579 [==============================] - 347s 220ms/step - loss: 0.5233 - accuracy: 0.8555\n",
      "Epoch 17/21\n",
      "1579/1579 [==============================] - 356s 226ms/step - loss: 0.3060 - accuracy: 0.9186\n",
      "Epoch 18/21\n",
      "1579/1579 [==============================] - 354s 224ms/step - loss: 0.2789 - accuracy: 0.9239\n",
      "Epoch 19/21\n",
      "1579/1579 [==============================] - 354s 224ms/step - loss: 0.2612 - accuracy: 0.9277\n",
      "Epoch 20/21\n",
      "1579/1579 [==============================] - 357s 226ms/step - loss: 0.2333 - accuracy: 0.9349\n",
      "Epoch 21/21\n",
      "1579/1579 [==============================] - 335s 212ms/step - loss: 0.1586 - accuracy: 0.9558\n"
     ]
    },
    {
     "data": {
      "text/plain": [
       "<tensorflow.python.keras.callbacks.History at 0x7fb03dee8cf8>"
      ]
     },
     "execution_count": 53,
     "metadata": {},
     "output_type": "execute_result"
    }
   ],
   "source": [
    "model.fit(ds, epochs=21, shuffle=False, steps_per_epoch=steps_per_epoch)"
   ]
  },
  {
   "cell_type": "code",
   "execution_count": 55,
   "metadata": {},
   "outputs": [],
   "source": [
    "model.save_weights('weights_attempt_3')"
   ]
  },
  {
   "cell_type": "code",
   "execution_count": 56,
   "metadata": {},
   "outputs": [
    {
     "name": "stderr",
     "output_type": "stream",
     "text": [
      "W0811 04:37:21.911157 140399753807680 deprecation.py:323] From /home/collin/.virtualenvs/food_classification/lib/python3.6/site-packages/tensorflow/python/saved_model/signature_def_utils_impl.py:253: build_tensor_info (from tensorflow.python.saved_model.utils_impl) is deprecated and will be removed in a future version.\n",
      "Instructions for updating:\n",
      "This function will only be available through the v1 compatibility library as tf.compat.v1.saved_model.utils.build_tensor_info or tf.compat.v1.saved_model.build_tensor_info.\n",
      "W0811 04:37:21.913411 140399753807680 export_utils.py:182] Export includes no default signature!\n",
      "W0811 04:37:27.412421 140399753807680 export_utils.py:182] Export includes no default signature!\n"
     ]
    },
    {
     "data": {
      "text/plain": [
       "'./saved_models/1565498227'"
      ]
     },
     "execution_count": 56,
     "metadata": {},
     "output_type": "execute_result"
    }
   ],
   "source": [
    "import time\n",
    "saved_model_path = \"./saved_models/{}\".format(int(time.time()))\n",
    "\n",
    "tf.keras.experimental.export_saved_model(model, saved_model_path)\n",
    "saved_model_path"
   ]
  },
  {
   "cell_type": "markdown",
   "metadata": {},
   "source": [
    "## Evaluation"
   ]
  },
  {
   "cell_type": "code",
   "execution_count": 4,
   "metadata": {},
   "outputs": [],
   "source": [
    "model = tf.keras.experimental.load_from_saved_model('./saved_models/1565476483')"
   ]
  },
  {
   "cell_type": "code",
   "execution_count": 21,
   "metadata": {},
   "outputs": [],
   "source": [
    "img = mpimg.imread('cheesecake.jpg')"
   ]
  },
  {
   "cell_type": "code",
   "execution_count": 22,
   "metadata": {},
   "outputs": [
    {
     "data": {
      "image/png": "[encoded data removed]",
      "text/plain": [
       "<Figure size 432x288 with 1 Axes>"
      ]
     },
     "metadata": {
      "needs_background": "light"
     },
     "output_type": "display_data"
    }
   ],
   "source": [
    "imgplot = plt.imshow(img)"
   ]
  },
  {
   "cell_type": "code",
   "execution_count": 30,
   "metadata": {},
   "outputs": [
    {
     "data": {
      "text/plain": [
       "tensorflow.python.framework.ops.EagerTensor"
      ]
     },
     "execution_count": 30,
     "metadata": {},
     "output_type": "execute_result"
    }
   ],
   "source": [
    "img = load_and_preprocess_image('cheesecake.jpg')\n",
    "type(img)"
   ]
  },
  {
   "cell_type": "code",
   "execution_count": 33,
   "metadata": {},
   "outputs": [],
   "source": [
    "img = tf.reshape(img, [1,64,64,3])"
   ]
  },
  {
   "cell_type": "code",
   "execution_count": 38,
   "metadata": {},
   "outputs": [],
   "source": [
    "predictions = model.predict(img)"
   ]
  },
  {
   "cell_type": "code",
   "execution_count": 39,
   "metadata": {},
   "outputs": [],
   "source": [
    "results = np.argmax(predictions, axis=1) "
   ]
  },
  {
   "cell_type": "code",
   "execution_count": 41,
   "metadata": {},
   "outputs": [
    {
     "data": {
      "text/plain": [
       "17"
      ]
     },
     "execution_count": 41,
     "metadata": {},
     "output_type": "execute_result"
    }
   ],
   "source": [
    "results[0]"
   ]
  },
  {
   "cell_type": "code",
   "execution_count": 72,
   "metadata": {},
   "outputs": [
    {
     "name": "stdout",
     "output_type": "stream",
     "text": [
      "cheesecake\n"
     ]
    }
   ],
   "source": [
    "food_dict = {} \n",
    "for key, value in label_to_index.items(): \n",
    "   if value in food_dict: \n",
    "       food_dict[value].append(key) \n",
    "   else: \n",
    "       food_dict[value]=[key] \n",
    "\n",
    "print(food_dict[results[0]][0])"
   ]
  },
  {
   "cell_type": "markdown",
   "metadata": {},
   "source": [
    "## Export"
   ]
  },
  {
   "cell_type": "code",
   "execution_count": 5,
   "metadata": {},
   "outputs": [],
   "source": [
    "converter = tf.lite.TFLiteConverter.from_keras_model(model)\n",
    "tflite_model = converter.convert()"
   ]
  },
  {
   "cell_type": "code",
   "execution_count": 6,
   "metadata": {},
   "outputs": [
    {
     "data": {
      "text/plain": [
       "94778368"
      ]
     },
     "execution_count": 6,
     "metadata": {},
     "output_type": "execute_result"
    }
   ],
   "source": [
    "open('resnet50_food101_classifier.tflite', 'wb').write(tflite_model)"
   ]
  },
  {
   "cell_type": "code",
   "execution_count": 7,
   "metadata": {},
   "outputs": [
    {
     "name": "stdout",
     "output_type": "stream",
     "text": [
      "Food1.ipynb                           weights.data-00001-of-00002\r\n",
      "Untitled.ipynb                        weights.index\r\n",
      "checkpoint                            weights_attempt_2.data-00000-of-00002\r\n",
      "cheesecake.jpg                        weights_attempt_2.data-00001-of-00002\r\n",
      "food_classification_old.ipynb         weights_attempt_2.index\r\n",
      "food_classifier.ipynb                 weights_attempt_3.data-00000-of-00002\r\n",
      "resnet50_food101_classifier.tflite    weights_attempt_3.data-00001-of-00002\r\n",
      "\u001b[1m\u001b[36msaved_models\u001b[m\u001b[m                          weights_attempt_3.index\r\n",
      "weights.data-00000-of-00002\r\n"
     ]
    }
   ],
   "source": [
    "!ls"
   ]
  },
  {
   "cell_type": "code",
   "execution_count": null,
   "metadata": {},
   "outputs": [],
   "source": []
  }
 ],
 "metadata": {
  "kernelspec": {
   "display_name": "food_classification",
   "language": "python",
   "name": "food_classification"
  },
  "language_info": {
   "codemirror_mode": {
    "name": "ipython",
    "version": 3
   },
   "file_extension": ".py",
   "mimetype": "text/x-python",
   "name": "python",
   "nbconvert_exporter": "python",
   "pygments_lexer": "ipython3",
   "version": "3.7.4"
  }
 },
 "nbformat": 4,
 "nbformat_minor": 2
}
